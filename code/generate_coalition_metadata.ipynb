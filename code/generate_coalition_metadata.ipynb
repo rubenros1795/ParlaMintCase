{
 "metadata": {
  "language_info": {
   "codemirror_mode": {
    "name": "ipython",
    "version": 3
   },
   "file_extension": ".py",
   "mimetype": "text/x-python",
   "name": "python",
   "nbconvert_exporter": "python",
   "pygments_lexer": "ipython3",
   "version": "3.8.6"
  },
  "orig_nbformat": 2,
  "kernelspec": {
   "name": "python3",
   "display_name": "Python 3",
   "language": "python"
  }
 },
 "nbformat": 4,
 "nbformat_minor": 2,
 "cells": [
  {
   "cell_type": "code",
   "execution_count": 2,
   "metadata": {},
   "outputs": [],
   "source": [
    "import re, string,os\n",
    "from glob import glob as gb\n",
    "import pandas as pd\n",
    "from tqdm import tqdm\n",
    "from collections import Counter\n",
    "import datetime as dt\n",
    "import numpy as np\n",
    "import matplotlib.pyplot as plt\n",
    "import seaborn as sns\n",
    "import numpy as np\n",
    "import matplotlib\n",
    "from functions import *\n",
    "\n",
    "base_path = \"/media/ruben/OSDisk/Users/ruben.ros/Documents/GitHub/ParlaMintCase\""
   ]
  },
  {
   "cell_type": "code",
   "execution_count": 4,
   "metadata": {},
   "outputs": [],
   "source": [
    "df = data_loader.full('si','lemmatized')\n",
    "df = utils.add_metadata(df,'si')\n"
   ]
  },
  {
   "cell_type": "code",
   "execution_count": 5,
   "metadata": {},
   "outputs": [
    {
     "output_type": "stream",
     "name": "stdout",
     "text": [
      "Stranka Alenke Bratušek\nSlovenska demokratska stranka\nZavezništvo Alenke Bratušek\nSlovenska nacionalna stranka\nDemokratična stranka upokojencev Slovenije\nStranka modernega centra\nPoslanska skupina nepovezanih poslancev\nZdružena levica\nNova Slovenija – Krščanski demokrati\nSocialni demokrati\nStranka Mira Cerarja\nLista Marjana Šarca\nNepovezani poslanci\nPoslanci italijanske in madžarske narodne skupnosti\n_\nLevica\n"
     ]
    }
   ],
   "source": [
    "for i in set(df['speaker_party_name']):\n",
    "    print(i)"
   ]
  },
  {
   "cell_type": "code",
   "execution_count": 11,
   "metadata": {},
   "outputs": [
    {
     "output_type": "execute_result",
     "data": {
      "text/plain": [
       "{'PiS': 'Klub Parlamentarny Prawo i Sprawiedliwość',\n",
       " '_': '_',\n",
       " 'KO': 'Klub Parlamentarny Koalicja Obywatelska - Platforma Obywatelska, Nowoczesna, Inicjatywa Polska, Zieloni',\n",
       " 'KP-PSL': 'Klub Parlamentarny Koalicja Polska - Polskie Stronnictwo Ludowe - Kukiz15',\n",
       " 'Niezrzeszeni': 'Posłowie i senatorowie niezrzeszeni',\n",
       " 'Przywrócić Prawo': 'Koło Poselskie Przywrócić Prawo',\n",
       " \"Kukiz'15\": \"Klub Parlamentarny Kukiz'15\",\n",
       " 'Konfederacja': 'Konfederacja',\n",
       " 'Teraz!': 'Koło Poselskie Teraz!',\n",
       " 'UPR': 'Koło Poselskie Unia Polityki Realnej',\n",
       " 'KO;Niezrzeszeni': 'Klub Parlamentarny Koalicja Obywatelska - Platforma Obywatelska, Nowoczesna, Inicjatywa Polska, Zieloni;Posłowie i senatorowie niezrzeszeni',\n",
       " 'PiS;Niezrzeszeni': 'Klub Parlamentarny Prawo i Sprawiedliwość;Posłowie i senatorowie niezrzeszeni',\n",
       " 'PiS;KO;Niezrzeszeni': 'Klub Parlamentarny Prawo i Sprawiedliwość;Klub Parlamentarny Koalicja Obywatelska - Platforma Obywatelska, Nowoczesna, Inicjatywa Polska, Zieloni;Posłowie i senatorowie niezrzeszeni',\n",
       " 'Lewica': 'Koalicyjny Klub Parlamentarny Lewicy (Razem, Sojusz Lewicy Demokratycznej, Wiosna Roberta Biedronia)'}"
      ]
     },
     "metadata": {},
     "execution_count": 11
    }
   ],
   "source": [
    "dict(zip(df['speaker_party'],df['speaker_party_name']))"
   ]
  },
  {
   "cell_type": "code",
   "execution_count": 12,
   "metadata": {},
   "outputs": [
    {
     "output_type": "execute_result",
     "data": {
      "text/plain": [
       "                                             id  \\\n",
       "0          ParlaMint-PL_2017-01-26-sejm-34-4.u1   \n",
       "1          ParlaMint-PL_2017-01-26-sejm-34-4.u2   \n",
       "2          ParlaMint-PL_2017-01-26-sejm-34-4.u3   \n",
       "3          ParlaMint-PL_2017-01-26-sejm-34-4.u4   \n",
       "4          ParlaMint-PL_2017-01-26-sejm-34-4.u5   \n",
       "...                                         ...   \n",
       "331039  ParlaMint-PL_2020-06-17-senat-12-1.u320   \n",
       "331040  ParlaMint-PL_2020-06-17-senat-12-1.u321   \n",
       "331041  ParlaMint-PL_2020-06-17-senat-12-1.u322   \n",
       "331042  ParlaMint-PL_2020-06-17-senat-12-1.u323   \n",
       "331043  ParlaMint-PL_2020-06-17-senat-12-1.u324   \n",
       "\n",
       "                                                     text  subcorpus  \\\n",
       "0       wznawiam posiedzenie na sekretarzy dzisiejszyc...  Reference   \n",
       "1       informuję że w dniu dzisiejszym odbędą się pos...  Reference   \n",
       "2       bardzo dziękuję prezydium sejmu w uzgodnieniu ...  Reference   \n",
       "3       bardzo dziękuję panie marszałku panie ministrz...  Reference   \n",
       "4       dziękuję bardzo proszę o udzielenie odpowiedzi...  Reference   \n",
       "...                                                   ...        ...   \n",
       "331039  dziękuję bardzo panie senatorze informuję że l...      COVID   \n",
       "331040            ja jakby w tym samym duchu co wcześniej      COVID   \n",
       "331041  tak jest dziękuję bardzo zamykam dyskusję info...      COVID   \n",
       "331042  dziękuję bardzo wysoka izbo komunikat odnośnie...      COVID   \n",
       "331043  bardzo dziękuję panie i panowie senatorowie og...      COVID   \n",
       "\n",
       "       speaker_birth  segments  \\\n",
       "0               1949         7   \n",
       "1               1984        32   \n",
       "2               1949        11   \n",
       "3               1967         4   \n",
       "4               1949         3   \n",
       "...              ...       ...   \n",
       "331039          1972         8   \n",
       "331040             ?         1   \n",
       "331041          1972         5   \n",
       "331042          1972         8   \n",
       "331043          1972         3   \n",
       "\n",
       "                                       speaker_party_name speaker_party  \\\n",
       "0               Klub Parlamentarny Prawo i Sprawiedliwość           PiS   \n",
       "1               Klub Parlamentarny Prawo i Sprawiedliwość           PiS   \n",
       "2               Klub Parlamentarny Prawo i Sprawiedliwość           PiS   \n",
       "3               Klub Parlamentarny Prawo i Sprawiedliwość           PiS   \n",
       "4               Klub Parlamentarny Prawo i Sprawiedliwość           PiS   \n",
       "...                                                   ...           ...   \n",
       "331039  Klub Parlamentarny Koalicja Polska - Polskie S...        KP-PSL   \n",
       "331040                                                  _             _   \n",
       "331041  Klub Parlamentarny Koalicja Polska - Polskie S...        KP-PSL   \n",
       "331042  Klub Parlamentarny Koalicja Obywatelska - Plat...            KO   \n",
       "331043  Klub Parlamentarny Koalicja Polska - Polskie S...        KP-PSL   \n",
       "\n",
       "       speaker_role  tokens speaker_gender                  speaker_id  \\\n",
       "0             chair      68              M             TerleckiRyszard   \n",
       "1           regular     348              M              KubówKrzysztof   \n",
       "2             chair     200              M             TerleckiRyszard   \n",
       "3           regular     244              F              BorowiakJoanna   \n",
       "4             chair      25              M             TerleckiRyszard   \n",
       "...             ...     ...            ...                         ...   \n",
       "331039        chair     126              M              KamińskiMichał   \n",
       "331040        guest       9              M               NiedużakMarek   \n",
       "331041        chair      36              M              KamińskiMichał   \n",
       "331042      regular     253              F  KołaczLeszczyńskaAgnieszka   \n",
       "331043        chair      18              M              KamińskiMichał   \n",
       "\n",
       "         session speaker_type      term                   speaker_name  words  \\\n",
       "0       34-lower           MP   8-lower              Terlecki, Ryszard     58   \n",
       "1       34-lower           MP   8-lower               Kubów, Krzysztof    215   \n",
       "2       34-lower           MP   8-lower              Terlecki, Ryszard    172   \n",
       "3       34-lower           MP   8-lower               Borowiak, Joanna    213   \n",
       "4       34-lower           MP   8-lower              Terlecki, Ryszard     21   \n",
       "...          ...          ...       ...                            ...    ...   \n",
       "331039  12-upper           MP  10-upper               Kamiński, Michał    100   \n",
       "331040  12-upper        notMP  10-upper                Niedużak, Marek      8   \n",
       "331041  12-upper           MP  10-upper               Kamiński, Michał     27   \n",
       "331042  12-upper           MP  10-upper  Kołacz-Leszczyńska, Agnieszka    228   \n",
       "331043  12-upper           MP  10-upper               Kamiński, Michał     14   \n",
       "\n",
       "       sitting  sentences        date  names  \n",
       "0            ?          7  2017-01-26      8  \n",
       "1            ?         32  2017-01-26     16  \n",
       "2            ?         14  2017-01-26     11  \n",
       "3            ?         17  2017-01-26     10  \n",
       "4            ?          3  2017-01-26      2  \n",
       "...        ...        ...         ...    ...  \n",
       "331039       ?          9  2020-06-17     10  \n",
       "331040       ?          1  2020-06-17      0  \n",
       "331041       ?          7  2020-06-17      2  \n",
       "331042       ?         11  2020-06-17     19  \n",
       "331043       ?          3  2020-06-17      1  \n",
       "\n",
       "[331044 rows x 20 columns]"
      ],
      "text/html": "<div>\n<style scoped>\n    .dataframe tbody tr th:only-of-type {\n        vertical-align: middle;\n    }\n\n    .dataframe tbody tr th {\n        vertical-align: top;\n    }\n\n    .dataframe thead th {\n        text-align: right;\n    }\n</style>\n<table border=\"1\" class=\"dataframe\">\n  <thead>\n    <tr style=\"text-align: right;\">\n      <th></th>\n      <th>id</th>\n      <th>text</th>\n      <th>subcorpus</th>\n      <th>speaker_birth</th>\n      <th>segments</th>\n      <th>speaker_party_name</th>\n      <th>speaker_party</th>\n      <th>speaker_role</th>\n      <th>tokens</th>\n      <th>speaker_gender</th>\n      <th>speaker_id</th>\n      <th>session</th>\n      <th>speaker_type</th>\n      <th>term</th>\n      <th>speaker_name</th>\n      <th>words</th>\n      <th>sitting</th>\n      <th>sentences</th>\n      <th>date</th>\n      <th>names</th>\n    </tr>\n  </thead>\n  <tbody>\n    <tr>\n      <th>0</th>\n      <td>ParlaMint-PL_2017-01-26-sejm-34-4.u1</td>\n      <td>wznawiam posiedzenie na sekretarzy dzisiejszyc...</td>\n      <td>Reference</td>\n      <td>1949</td>\n      <td>7</td>\n      <td>Klub Parlamentarny Prawo i Sprawiedliwość</td>\n      <td>PiS</td>\n      <td>chair</td>\n      <td>68</td>\n      <td>M</td>\n      <td>TerleckiRyszard</td>\n      <td>34-lower</td>\n      <td>MP</td>\n      <td>8-lower</td>\n      <td>Terlecki, Ryszard</td>\n      <td>58</td>\n      <td>?</td>\n      <td>7</td>\n      <td>2017-01-26</td>\n      <td>8</td>\n    </tr>\n    <tr>\n      <th>1</th>\n      <td>ParlaMint-PL_2017-01-26-sejm-34-4.u2</td>\n      <td>informuję że w dniu dzisiejszym odbędą się pos...</td>\n      <td>Reference</td>\n      <td>1984</td>\n      <td>32</td>\n      <td>Klub Parlamentarny Prawo i Sprawiedliwość</td>\n      <td>PiS</td>\n      <td>regular</td>\n      <td>348</td>\n      <td>M</td>\n      <td>KubówKrzysztof</td>\n      <td>34-lower</td>\n      <td>MP</td>\n      <td>8-lower</td>\n      <td>Kubów, Krzysztof</td>\n      <td>215</td>\n      <td>?</td>\n      <td>32</td>\n      <td>2017-01-26</td>\n      <td>16</td>\n    </tr>\n    <tr>\n      <th>2</th>\n      <td>ParlaMint-PL_2017-01-26-sejm-34-4.u3</td>\n      <td>bardzo dziękuję prezydium sejmu w uzgodnieniu ...</td>\n      <td>Reference</td>\n      <td>1949</td>\n      <td>11</td>\n      <td>Klub Parlamentarny Prawo i Sprawiedliwość</td>\n      <td>PiS</td>\n      <td>chair</td>\n      <td>200</td>\n      <td>M</td>\n      <td>TerleckiRyszard</td>\n      <td>34-lower</td>\n      <td>MP</td>\n      <td>8-lower</td>\n      <td>Terlecki, Ryszard</td>\n      <td>172</td>\n      <td>?</td>\n      <td>14</td>\n      <td>2017-01-26</td>\n      <td>11</td>\n    </tr>\n    <tr>\n      <th>3</th>\n      <td>ParlaMint-PL_2017-01-26-sejm-34-4.u4</td>\n      <td>bardzo dziękuję panie marszałku panie ministrz...</td>\n      <td>Reference</td>\n      <td>1967</td>\n      <td>4</td>\n      <td>Klub Parlamentarny Prawo i Sprawiedliwość</td>\n      <td>PiS</td>\n      <td>regular</td>\n      <td>244</td>\n      <td>F</td>\n      <td>BorowiakJoanna</td>\n      <td>34-lower</td>\n      <td>MP</td>\n      <td>8-lower</td>\n      <td>Borowiak, Joanna</td>\n      <td>213</td>\n      <td>?</td>\n      <td>17</td>\n      <td>2017-01-26</td>\n      <td>10</td>\n    </tr>\n    <tr>\n      <th>4</th>\n      <td>ParlaMint-PL_2017-01-26-sejm-34-4.u5</td>\n      <td>dziękuję bardzo proszę o udzielenie odpowiedzi...</td>\n      <td>Reference</td>\n      <td>1949</td>\n      <td>3</td>\n      <td>Klub Parlamentarny Prawo i Sprawiedliwość</td>\n      <td>PiS</td>\n      <td>chair</td>\n      <td>25</td>\n      <td>M</td>\n      <td>TerleckiRyszard</td>\n      <td>34-lower</td>\n      <td>MP</td>\n      <td>8-lower</td>\n      <td>Terlecki, Ryszard</td>\n      <td>21</td>\n      <td>?</td>\n      <td>3</td>\n      <td>2017-01-26</td>\n      <td>2</td>\n    </tr>\n    <tr>\n      <th>...</th>\n      <td>...</td>\n      <td>...</td>\n      <td>...</td>\n      <td>...</td>\n      <td>...</td>\n      <td>...</td>\n      <td>...</td>\n      <td>...</td>\n      <td>...</td>\n      <td>...</td>\n      <td>...</td>\n      <td>...</td>\n      <td>...</td>\n      <td>...</td>\n      <td>...</td>\n      <td>...</td>\n      <td>...</td>\n      <td>...</td>\n      <td>...</td>\n      <td>...</td>\n    </tr>\n    <tr>\n      <th>331039</th>\n      <td>ParlaMint-PL_2020-06-17-senat-12-1.u320</td>\n      <td>dziękuję bardzo panie senatorze informuję że l...</td>\n      <td>COVID</td>\n      <td>1972</td>\n      <td>8</td>\n      <td>Klub Parlamentarny Koalicja Polska - Polskie S...</td>\n      <td>KP-PSL</td>\n      <td>chair</td>\n      <td>126</td>\n      <td>M</td>\n      <td>KamińskiMichał</td>\n      <td>12-upper</td>\n      <td>MP</td>\n      <td>10-upper</td>\n      <td>Kamiński, Michał</td>\n      <td>100</td>\n      <td>?</td>\n      <td>9</td>\n      <td>2020-06-17</td>\n      <td>10</td>\n    </tr>\n    <tr>\n      <th>331040</th>\n      <td>ParlaMint-PL_2020-06-17-senat-12-1.u321</td>\n      <td>ja jakby w tym samym duchu co wcześniej</td>\n      <td>COVID</td>\n      <td>?</td>\n      <td>1</td>\n      <td>_</td>\n      <td>_</td>\n      <td>guest</td>\n      <td>9</td>\n      <td>M</td>\n      <td>NiedużakMarek</td>\n      <td>12-upper</td>\n      <td>notMP</td>\n      <td>10-upper</td>\n      <td>Niedużak, Marek</td>\n      <td>8</td>\n      <td>?</td>\n      <td>1</td>\n      <td>2020-06-17</td>\n      <td>0</td>\n    </tr>\n    <tr>\n      <th>331041</th>\n      <td>ParlaMint-PL_2020-06-17-senat-12-1.u322</td>\n      <td>tak jest dziękuję bardzo zamykam dyskusję info...</td>\n      <td>COVID</td>\n      <td>1972</td>\n      <td>5</td>\n      <td>Klub Parlamentarny Koalicja Polska - Polskie S...</td>\n      <td>KP-PSL</td>\n      <td>chair</td>\n      <td>36</td>\n      <td>M</td>\n      <td>KamińskiMichał</td>\n      <td>12-upper</td>\n      <td>MP</td>\n      <td>10-upper</td>\n      <td>Kamiński, Michał</td>\n      <td>27</td>\n      <td>?</td>\n      <td>7</td>\n      <td>2020-06-17</td>\n      <td>2</td>\n    </tr>\n    <tr>\n      <th>331042</th>\n      <td>ParlaMint-PL_2020-06-17-senat-12-1.u323</td>\n      <td>dziękuję bardzo wysoka izbo komunikat odnośnie...</td>\n      <td>COVID</td>\n      <td>1972</td>\n      <td>8</td>\n      <td>Klub Parlamentarny Koalicja Obywatelska - Plat...</td>\n      <td>KO</td>\n      <td>regular</td>\n      <td>253</td>\n      <td>F</td>\n      <td>KołaczLeszczyńskaAgnieszka</td>\n      <td>12-upper</td>\n      <td>MP</td>\n      <td>10-upper</td>\n      <td>Kołacz-Leszczyńska, Agnieszka</td>\n      <td>228</td>\n      <td>?</td>\n      <td>11</td>\n      <td>2020-06-17</td>\n      <td>19</td>\n    </tr>\n    <tr>\n      <th>331043</th>\n      <td>ParlaMint-PL_2020-06-17-senat-12-1.u324</td>\n      <td>bardzo dziękuję panie i panowie senatorowie og...</td>\n      <td>COVID</td>\n      <td>1972</td>\n      <td>3</td>\n      <td>Klub Parlamentarny Koalicja Polska - Polskie S...</td>\n      <td>KP-PSL</td>\n      <td>chair</td>\n      <td>18</td>\n      <td>M</td>\n      <td>KamińskiMichał</td>\n      <td>12-upper</td>\n      <td>MP</td>\n      <td>10-upper</td>\n      <td>Kamiński, Michał</td>\n      <td>14</td>\n      <td>?</td>\n      <td>3</td>\n      <td>2020-06-17</td>\n      <td>1</td>\n    </tr>\n  </tbody>\n</table>\n<p>331044 rows × 20 columns</p>\n</div>"
     },
     "metadata": {},
     "execution_count": 12
    }
   ],
   "source": [
    "df"
   ]
  },
  {
   "cell_type": "code",
   "execution_count": null,
   "metadata": {},
   "outputs": [],
   "source": []
  }
 ]
}