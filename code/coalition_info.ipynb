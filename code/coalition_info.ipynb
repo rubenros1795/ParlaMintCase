{
 "metadata": {
  "language_info": {
   "codemirror_mode": {
    "name": "ipython",
    "version": 3
   },
   "file_extension": ".py",
   "mimetype": "text/x-python",
   "name": "python",
   "nbconvert_exporter": "python",
   "pygments_lexer": "ipython3",
   "version": "3.8.6"
  },
  "orig_nbformat": 2,
  "kernelspec": {
   "name": "python3",
   "display_name": "Python 3",
   "language": "python"
  }
 },
 "nbformat": 4,
 "nbformat_minor": 2,
 "cells": [
  {
   "cell_type": "code",
   "execution_count": 2,
   "metadata": {},
   "outputs": [],
   "source": [
    "import re, string,os\n",
    "from glob import glob as gb\n",
    "import pandas as pd\n",
    "from tqdm import tqdm\n",
    "from collections import Counter\n",
    "import datetime as dt\n",
    "import numpy as np\n",
    "import matplotlib.pyplot as plt\n",
    "import seaborn as sns\n",
    "import numpy as np\n",
    "import matplotlib\n",
    "import wikipedia\n",
    "from bs4 import BeautifulSoup as bs\n",
    "import requests\n",
    "from datetime import datetime\n",
    "import xml.etree.cElementTree as ET\n",
    "from dateutil.parser import parse\n",
    "from functions import *"
   ]
  },
  {
   "cell_type": "code",
   "execution_count": 6,
   "metadata": {},
   "outputs": [],
   "source": [
    "df = pd.read_csv('/home/ruben/Documents/GitHub/ParlaMintCase/resources/coalitions/cabinet_all_data.csv',sep=';')"
   ]
  },
  {
   "cell_type": "code",
   "execution_count": 13,
   "metadata": {},
   "outputs": [
    {
     "output_type": "execute_result",
     "data": {
      "text/plain": [
       "      Unnamed: 0 country_name_short country_name election_date start_date  \\\n",
       "1322        1323                BEL      Belgium     5/26/2019  10/1/2020   \n",
       "1323        1324                BEL      Belgium     5/26/2019  10/1/2020   \n",
       "1324        1325                BEL      Belgium     5/26/2019  10/1/2020   \n",
       "1326        1327                BEL      Belgium     5/26/2019  10/1/2020   \n",
       "1329        1330                BEL      Belgium     5/26/2019  10/1/2020   \n",
       "1331        1332                BEL      Belgium     5/26/2019  10/1/2020   \n",
       "1332        1333                BEL      Belgium     5/26/2019  10/1/2020   \n",
       "\n",
       "     cabinet_name  caretaker  cabinet_party  prime_minister  seats  \\\n",
       "1322      De Croo          0              1               0      8   \n",
       "1323      De Croo          0              1               0     12   \n",
       "1324      De Croo          0              1               0     13   \n",
       "1326      De Croo          0              1               0     14   \n",
       "1329      De Croo          0              1               0     20   \n",
       "1331      De Croo          0              1               1     12   \n",
       "1332      De Croo          0              1               0      9   \n",
       "\n",
       "      election_seats_total party_name_short  \\\n",
       "1322                   150           AGL-Gr   \n",
       "1323                   150         CVP|CD&V   \n",
       "1324                   150            Ecolo   \n",
       "1326                   150               MR   \n",
       "1329                   150               PS   \n",
       "1331                   150          PVV|VLD   \n",
       "1332                   150               SP   \n",
       "\n",
       "                                             party_name  \\\n",
       "1322                                     Agalev  Groen   \n",
       "1323  Christelijke Volkspartij | Christen-Democratis...   \n",
       "1324  Écologistes Confédérés pour l'organisation de ...   \n",
       "1326                              Mouvement Réformateur   \n",
       "1329                                   Parti Socialiste   \n",
       "1331  Partij voor Vrijheid en Vooruitgang | Vlaamse ...   \n",
       "1332                              Socialistische Partij   \n",
       "\n",
       "                                     party_name_english  left_right  \\\n",
       "1322                                    Agalev -- Green      2.5762   \n",
       "1323  Flemish Christian Peoples Party | Christian De...      5.7667   \n",
       "1324  Confederated ecologists for the organisation o...      2.6410   \n",
       "1326                                 Reformist Movement      6.6889   \n",
       "1329                      Socialist Party [Francophone]      2.9307   \n",
       "1331  Party of Liberty and Progress | Flemish Libera...      7.0053   \n",
       "1332                                    Socialist Party      3.2459   \n",
       "\n",
       "      country_id  election_id  cabinet_id  previous_cabinet_id  party_id  \n",
       "1322          64         1048        1639               1627.0      1594  \n",
       "1323          64         1048        1639               1627.0       723  \n",
       "1324          64         1048        1639               1627.0       161  \n",
       "1326          64         1048        1639               1627.0       915  \n",
       "1329          64         1048        1639               1627.0      1378  \n",
       "1331          64         1048        1639               1627.0      1110  \n",
       "1332          64         1048        1639               1627.0      1029  "
      ],
      "text/html": "<div>\n<style scoped>\n    .dataframe tbody tr th:only-of-type {\n        vertical-align: middle;\n    }\n\n    .dataframe tbody tr th {\n        vertical-align: top;\n    }\n\n    .dataframe thead th {\n        text-align: right;\n    }\n</style>\n<table border=\"1\" class=\"dataframe\">\n  <thead>\n    <tr style=\"text-align: right;\">\n      <th></th>\n      <th>Unnamed: 0</th>\n      <th>country_name_short</th>\n      <th>country_name</th>\n      <th>election_date</th>\n      <th>start_date</th>\n      <th>cabinet_name</th>\n      <th>caretaker</th>\n      <th>cabinet_party</th>\n      <th>prime_minister</th>\n      <th>seats</th>\n      <th>election_seats_total</th>\n      <th>party_name_short</th>\n      <th>party_name</th>\n      <th>party_name_english</th>\n      <th>left_right</th>\n      <th>country_id</th>\n      <th>election_id</th>\n      <th>cabinet_id</th>\n      <th>previous_cabinet_id</th>\n      <th>party_id</th>\n    </tr>\n  </thead>\n  <tbody>\n    <tr>\n      <th>1322</th>\n      <td>1323</td>\n      <td>BEL</td>\n      <td>Belgium</td>\n      <td>5/26/2019</td>\n      <td>10/1/2020</td>\n      <td>De Croo</td>\n      <td>0</td>\n      <td>1</td>\n      <td>0</td>\n      <td>8</td>\n      <td>150</td>\n      <td>AGL-Gr</td>\n      <td>Agalev  Groen</td>\n      <td>Agalev -- Green</td>\n      <td>2.5762</td>\n      <td>64</td>\n      <td>1048</td>\n      <td>1639</td>\n      <td>1627.0</td>\n      <td>1594</td>\n    </tr>\n    <tr>\n      <th>1323</th>\n      <td>1324</td>\n      <td>BEL</td>\n      <td>Belgium</td>\n      <td>5/26/2019</td>\n      <td>10/1/2020</td>\n      <td>De Croo</td>\n      <td>0</td>\n      <td>1</td>\n      <td>0</td>\n      <td>12</td>\n      <td>150</td>\n      <td>CVP|CD&amp;V</td>\n      <td>Christelijke Volkspartij | Christen-Democratis...</td>\n      <td>Flemish Christian Peoples Party | Christian De...</td>\n      <td>5.7667</td>\n      <td>64</td>\n      <td>1048</td>\n      <td>1639</td>\n      <td>1627.0</td>\n      <td>723</td>\n    </tr>\n    <tr>\n      <th>1324</th>\n      <td>1325</td>\n      <td>BEL</td>\n      <td>Belgium</td>\n      <td>5/26/2019</td>\n      <td>10/1/2020</td>\n      <td>De Croo</td>\n      <td>0</td>\n      <td>1</td>\n      <td>0</td>\n      <td>13</td>\n      <td>150</td>\n      <td>Ecolo</td>\n      <td>Écologistes Confédérés pour l'organisation de ...</td>\n      <td>Confederated ecologists for the organisation o...</td>\n      <td>2.6410</td>\n      <td>64</td>\n      <td>1048</td>\n      <td>1639</td>\n      <td>1627.0</td>\n      <td>161</td>\n    </tr>\n    <tr>\n      <th>1326</th>\n      <td>1327</td>\n      <td>BEL</td>\n      <td>Belgium</td>\n      <td>5/26/2019</td>\n      <td>10/1/2020</td>\n      <td>De Croo</td>\n      <td>0</td>\n      <td>1</td>\n      <td>0</td>\n      <td>14</td>\n      <td>150</td>\n      <td>MR</td>\n      <td>Mouvement Réformateur</td>\n      <td>Reformist Movement</td>\n      <td>6.6889</td>\n      <td>64</td>\n      <td>1048</td>\n      <td>1639</td>\n      <td>1627.0</td>\n      <td>915</td>\n    </tr>\n    <tr>\n      <th>1329</th>\n      <td>1330</td>\n      <td>BEL</td>\n      <td>Belgium</td>\n      <td>5/26/2019</td>\n      <td>10/1/2020</td>\n      <td>De Croo</td>\n      <td>0</td>\n      <td>1</td>\n      <td>0</td>\n      <td>20</td>\n      <td>150</td>\n      <td>PS</td>\n      <td>Parti Socialiste</td>\n      <td>Socialist Party [Francophone]</td>\n      <td>2.9307</td>\n      <td>64</td>\n      <td>1048</td>\n      <td>1639</td>\n      <td>1627.0</td>\n      <td>1378</td>\n    </tr>\n    <tr>\n      <th>1331</th>\n      <td>1332</td>\n      <td>BEL</td>\n      <td>Belgium</td>\n      <td>5/26/2019</td>\n      <td>10/1/2020</td>\n      <td>De Croo</td>\n      <td>0</td>\n      <td>1</td>\n      <td>1</td>\n      <td>12</td>\n      <td>150</td>\n      <td>PVV|VLD</td>\n      <td>Partij voor Vrijheid en Vooruitgang | Vlaamse ...</td>\n      <td>Party of Liberty and Progress | Flemish Libera...</td>\n      <td>7.0053</td>\n      <td>64</td>\n      <td>1048</td>\n      <td>1639</td>\n      <td>1627.0</td>\n      <td>1110</td>\n    </tr>\n    <tr>\n      <th>1332</th>\n      <td>1333</td>\n      <td>BEL</td>\n      <td>Belgium</td>\n      <td>5/26/2019</td>\n      <td>10/1/2020</td>\n      <td>De Croo</td>\n      <td>0</td>\n      <td>1</td>\n      <td>0</td>\n      <td>9</td>\n      <td>150</td>\n      <td>SP</td>\n      <td>Socialistische Partij</td>\n      <td>Socialist Party</td>\n      <td>3.2459</td>\n      <td>64</td>\n      <td>1048</td>\n      <td>1639</td>\n      <td>1627.0</td>\n      <td>1029</td>\n    </tr>\n  </tbody>\n</table>\n</div>"
     },
     "metadata": {},
     "execution_count": 13
    }
   ],
   "source": [
    "df[(df.country_name_short == 'BEL') & (df.cabinet_party == 1) & (df.cabinet_name == 'De Croo')]"
   ]
  },
  {
   "cell_type": "code",
   "execution_count": null,
   "metadata": {},
   "outputs": [],
   "source": []
  }
 ]
}