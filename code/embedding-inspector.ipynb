{
 "metadata": {
  "language_info": {
   "codemirror_mode": {
    "name": "ipython",
    "version": 3
   },
   "file_extension": ".py",
   "mimetype": "text/x-python",
   "name": "python",
   "nbconvert_exporter": "python",
   "pygments_lexer": "ipython3",
   "version": "3.8.5-final"
  },
  "orig_nbformat": 2,
  "kernelspec": {
   "name": "python3",
   "display_name": "Python 3.8.5 64-bit",
   "metadata": {
    "interpreter": {
     "hash": "31f2aee4e71d21fbe5cf8b01ff0e069b9275f58929596ceb00d14d90e3e16cd6"
    }
   }
  }
 },
 "nbformat": 4,
 "nbformat_minor": 2,
 "cells": [
  {
   "cell_type": "code",
   "execution_count": 1,
   "metadata": {},
   "outputs": [],
   "source": [
    "import re, string,os\n",
    "from glob import glob as gb\n",
    "import pandas as pd\n",
    "from collections import Counter\n",
    "from tqdm import tqdm\n",
    "from datetime import datetime, timedelta, date\n",
    "from collections import OrderedDict\n",
    "import subprocess\n",
    "import utils.FrequencyParser as fp\n",
    "import utils.Embedder as emb\n",
    "import utils.WindowGenerator as wdw\n",
    "import utils.utils as utils"
   ]
  },
  {
   "cell_type": "code",
   "execution_count": 2,
   "metadata": {},
   "outputs": [],
   "source": [
    "df = utils.load_freq_df('/media/ruben/OSDisk/Users/ruben.ros/Documents/GitHub/ParlaMintCase/results/frequencies/bg/на-2019_09-2020_07.txt')\n",
    "#emb.DataFrameMostSimilar(\"pl\",'walka',[\"za\",\"to\",\"on\",\"co\"],topn=25).T"
   ]
  },
  {
   "cell_type": "code",
   "execution_count": 5,
   "metadata": {},
   "outputs": [
    {
     "output_type": "stream",
     "name": "stdout",
     "text": [
      "training models with texts:  ['на']\n",
      "['2019-09', '2019-10', '2019-11', '2019-12', '2020-01', '2020-02', '2020-03', '2020-04', '2020-05', '2020-06']\n",
      "2019-09 1131\n",
      "2019-10 490\n",
      "2019-11 1427\n",
      "2019-12 1782\n",
      "2020-01 959\n",
      "2020-02 1608\n",
      "2020-03 1492\n",
      "2020-04 662\n",
      "2020-05 961\n",
      "2020-06 1331\n"
     ]
    }
   ],
   "source": [
    "emb.TrainEmbeddingsDiachronic(df,start_month=\"2019-09\",end_month=\"2020-07\")"
   ]
  },
  {
   "cell_type": "code",
   "execution_count": 10,
   "metadata": {},
   "outputs": [
    {
     "output_type": "stream",
     "name": "stdout",
     "text": [
      "searching in /media/ruben/OSDisk/Users/ruben.ros/Documents/GitHub/ParlaMintCase/results/models/bg/*на*\n"
     ]
    },
    {
     "output_type": "execute_result",
     "data": {
      "text/plain": [
       "                  0                  1                  2            3   \\\n",
       "2019-09         обем          състояние        ангажименти       област   \n",
       "2019-10  българската              около        ангажименти        софия   \n",
       "2019-11         бяха               беше          финансите  ангажименти   \n",
       "2019-12       главен  заместникминистър              отдел         данс   \n",
       "2020-01         данс             главен  заместникминистър      експерт   \n",
       "2020-02       главен  заместникминистър           дирекция      експерт   \n",
       "2020-03       главен            експерт           дирекция        отдел   \n",
       "2020-04      експерт             главен           дирекция        отдел   \n",
       "2020-05      експерт             главен          служители    структури   \n",
       "2020-06      експерт           дирекция              отдел       главен   \n",
       "\n",
       "                        4           5             6              7   \\\n",
       "2019-09          приоритет        чума  африканската     предприети   \n",
       "2019-10             област  приоритети          зона    резултатите   \n",
       "2019-11           външните          бе        главен     регулиране   \n",
       "2019-12            експерт    дирекция   присъстваха       външните   \n",
       "2020-01              отдел    директор      дирекция     национални   \n",
       "2020-02              отдел    директор        своите       секретар   \n",
       "2020-03  заместникминистър      своите      секретар  прокуратурата   \n",
       "2020-04  заместникминистър    секретар        своите       директор   \n",
       "2020-05              отдел     доклади      дирекция       практики   \n",
       "2020-06           секретар   служители      практики   правосъдието   \n",
       "\n",
       "                   8                  9            10             11  \\\n",
       "2019-09        райони           участъка      свинете           броя   \n",
       "2019-10          чума           държавна   последните           база   \n",
       "2019-11  министерство           младежта      експерт     приоритети   \n",
       "2019-12      секретар           директор     държавен      управител   \n",
       "2020-01     структури           външните     държавен       секретар   \n",
       "2020-02           мвр      прокуратурата     външните           бяха   \n",
       "2020-03      директор           прокурор     великова       главният   \n",
       "2020-04      главният             заедно     прокурор  прокуратурата   \n",
       "2020-05    институции  заместникминистър     секретар          срещи   \n",
       "2020-06   присъстваха  заместникминистър  организации      структури   \n",
       "\n",
       "                  12                 13           14  \n",
       "2019-09      основен            пловдив         бяха  \n",
       "2019-10        близо             център       перник  \n",
       "2019-11       спорта  заместникминистър         данс  \n",
       "2019-12       редица           прокурор  ангажименти  \n",
       "2020-01      болници           участват    финансите  \n",
       "2020-02       заедно          финансите  присъстваха  \n",
       "2020-03          мвр          свидетели  присъстваха  \n",
       "2020-04     великова              бързо  присъстваха  \n",
       "2020-05       заедно       правосъдието       усилия  \n",
       "2020-06  земеделието             заедно     главният  "
      ],
      "text/html": "<div>\n<style scoped>\n    .dataframe tbody tr th:only-of-type {\n        vertical-align: middle;\n    }\n\n    .dataframe tbody tr th {\n        vertical-align: top;\n    }\n\n    .dataframe thead th {\n        text-align: right;\n    }\n</style>\n<table border=\"1\" class=\"dataframe\">\n  <thead>\n    <tr style=\"text-align: right;\">\n      <th></th>\n      <th>0</th>\n      <th>1</th>\n      <th>2</th>\n      <th>3</th>\n      <th>4</th>\n      <th>5</th>\n      <th>6</th>\n      <th>7</th>\n      <th>8</th>\n      <th>9</th>\n      <th>10</th>\n      <th>11</th>\n      <th>12</th>\n      <th>13</th>\n      <th>14</th>\n    </tr>\n  </thead>\n  <tbody>\n    <tr>\n      <th>2019-09</th>\n      <td>обем</td>\n      <td>състояние</td>\n      <td>ангажименти</td>\n      <td>област</td>\n      <td>приоритет</td>\n      <td>чума</td>\n      <td>африканската</td>\n      <td>предприети</td>\n      <td>райони</td>\n      <td>участъка</td>\n      <td>свинете</td>\n      <td>броя</td>\n      <td>основен</td>\n      <td>пловдив</td>\n      <td>бяха</td>\n    </tr>\n    <tr>\n      <th>2019-10</th>\n      <td>българската</td>\n      <td>около</td>\n      <td>ангажименти</td>\n      <td>софия</td>\n      <td>област</td>\n      <td>приоритети</td>\n      <td>зона</td>\n      <td>резултатите</td>\n      <td>чума</td>\n      <td>държавна</td>\n      <td>последните</td>\n      <td>база</td>\n      <td>близо</td>\n      <td>център</td>\n      <td>перник</td>\n    </tr>\n    <tr>\n      <th>2019-11</th>\n      <td>бяха</td>\n      <td>беше</td>\n      <td>финансите</td>\n      <td>ангажименти</td>\n      <td>външните</td>\n      <td>бе</td>\n      <td>главен</td>\n      <td>регулиране</td>\n      <td>министерство</td>\n      <td>младежта</td>\n      <td>експерт</td>\n      <td>приоритети</td>\n      <td>спорта</td>\n      <td>заместникминистър</td>\n      <td>данс</td>\n    </tr>\n    <tr>\n      <th>2019-12</th>\n      <td>главен</td>\n      <td>заместникминистър</td>\n      <td>отдел</td>\n      <td>данс</td>\n      <td>експерт</td>\n      <td>дирекция</td>\n      <td>присъстваха</td>\n      <td>външните</td>\n      <td>секретар</td>\n      <td>директор</td>\n      <td>държавен</td>\n      <td>управител</td>\n      <td>редица</td>\n      <td>прокурор</td>\n      <td>ангажименти</td>\n    </tr>\n    <tr>\n      <th>2020-01</th>\n      <td>данс</td>\n      <td>главен</td>\n      <td>заместникминистър</td>\n      <td>експерт</td>\n      <td>отдел</td>\n      <td>директор</td>\n      <td>дирекция</td>\n      <td>национални</td>\n      <td>структури</td>\n      <td>външните</td>\n      <td>държавен</td>\n      <td>секретар</td>\n      <td>болници</td>\n      <td>участват</td>\n      <td>финансите</td>\n    </tr>\n    <tr>\n      <th>2020-02</th>\n      <td>главен</td>\n      <td>заместникминистър</td>\n      <td>дирекция</td>\n      <td>експерт</td>\n      <td>отдел</td>\n      <td>директор</td>\n      <td>своите</td>\n      <td>секретар</td>\n      <td>мвр</td>\n      <td>прокуратурата</td>\n      <td>външните</td>\n      <td>бяха</td>\n      <td>заедно</td>\n      <td>финансите</td>\n      <td>присъстваха</td>\n    </tr>\n    <tr>\n      <th>2020-03</th>\n      <td>главен</td>\n      <td>експерт</td>\n      <td>дирекция</td>\n      <td>отдел</td>\n      <td>заместникминистър</td>\n      <td>своите</td>\n      <td>секретар</td>\n      <td>прокуратурата</td>\n      <td>директор</td>\n      <td>прокурор</td>\n      <td>великова</td>\n      <td>главният</td>\n      <td>мвр</td>\n      <td>свидетели</td>\n      <td>присъстваха</td>\n    </tr>\n    <tr>\n      <th>2020-04</th>\n      <td>експерт</td>\n      <td>главен</td>\n      <td>дирекция</td>\n      <td>отдел</td>\n      <td>заместникминистър</td>\n      <td>секретар</td>\n      <td>своите</td>\n      <td>директор</td>\n      <td>главният</td>\n      <td>заедно</td>\n      <td>прокурор</td>\n      <td>прокуратурата</td>\n      <td>великова</td>\n      <td>бързо</td>\n      <td>присъстваха</td>\n    </tr>\n    <tr>\n      <th>2020-05</th>\n      <td>експерт</td>\n      <td>главен</td>\n      <td>служители</td>\n      <td>структури</td>\n      <td>отдел</td>\n      <td>доклади</td>\n      <td>дирекция</td>\n      <td>практики</td>\n      <td>институции</td>\n      <td>заместникминистър</td>\n      <td>секретар</td>\n      <td>срещи</td>\n      <td>заедно</td>\n      <td>правосъдието</td>\n      <td>усилия</td>\n    </tr>\n    <tr>\n      <th>2020-06</th>\n      <td>експерт</td>\n      <td>дирекция</td>\n      <td>отдел</td>\n      <td>главен</td>\n      <td>секретар</td>\n      <td>служители</td>\n      <td>практики</td>\n      <td>правосъдието</td>\n      <td>присъстваха</td>\n      <td>заместникминистър</td>\n      <td>организации</td>\n      <td>структури</td>\n      <td>земеделието</td>\n      <td>заедно</td>\n      <td>главният</td>\n    </tr>\n  </tbody>\n</table>\n</div>"
     },
     "metadata": {},
     "execution_count": 10
    }
   ],
   "source": [
    "emb.DataFrameMostSimilar(\"bg\",\"експерти\",[\"на\"]).T"
   ]
  },
  {
   "cell_type": "code",
   "execution_count": null,
   "metadata": {},
   "outputs": [],
   "source": [
    "emb.DataFrameMostSimilar()"
   ]
  }
 ]
}