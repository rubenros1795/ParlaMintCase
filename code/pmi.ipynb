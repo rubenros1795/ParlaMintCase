{
 "metadata": {
  "language_info": {
   "codemirror_mode": {
    "name": "ipython",
    "version": 3
   },
   "file_extension": ".py",
   "mimetype": "text/x-python",
   "name": "python",
   "nbconvert_exporter": "python",
   "pygments_lexer": "ipython3",
   "version": "3.8.6-final"
  },
  "orig_nbformat": 2,
  "kernelspec": {
   "name": "python3",
   "display_name": "Python 3.8.6 64-bit",
   "metadata": {
    "interpreter": {
     "hash": "31f2aee4e71d21fbe5cf8b01ff0e069b9275f58929596ceb00d14d90e3e16cd6"
    }
   }
  }
 },
 "nbformat": 4,
 "nbformat_minor": 2,
 "cells": [
  {
   "cell_type": "code",
   "execution_count": 1,
   "metadata": {},
   "outputs": [],
   "source": [
    "import random\n",
    "import re, string,os\n",
    "from glob import glob as gb\n",
    "import pandas as pd\n",
    "from collections import Counter\n",
    "from tqdm import tqdm\n",
    "from datetime import datetime, timedelta, date\n",
    "from collections import OrderedDict\n",
    "import subprocess\n",
    "import matplotlib.pyplot as plt\n",
    "import seaborn as sns\n",
    "import math\n",
    "from utils import frequencyparser\n",
    "from utils import pmi\n",
    "from utils import utils\n",
    "from utils import cluster\n",
    "\n",
    "base_path = \"/media/ruben/OSDisk/Users/ruben.ros/Documents/GitHub/ParlaMintCase\""
   ]
  },
  {
   "cell_type": "code",
   "execution_count": 2,
   "metadata": {},
   "outputs": [],
   "source": [
    "df = utils.import_all('pl',format='lemmatized')\n",
    "months = utils.month_generator(\"2019-09\",\"2020-08\")\n",
    "stopwords = set(pd.read_csv(os.path.join(base_path,\"resources\",\"stopwords\",\"pl.csv\")).iloc[:,0])"
   ]
  },
  {
   "cell_type": "code",
   "execution_count": 3,
   "metadata": {},
   "outputs": [],
   "source": [
    "d = pd.DataFrame()\n",
    "\n",
    "for m in months:\n",
    "    rdf = pmi.get_pmi_table(df = df,date = m, window = 24, word = \"polityka\", stopwords = stopwords)\n",
    "    rdf = rdf.sort_values('npmi').reset_index(drop=True).iloc[:50,:]\n",
    "    rdf['date'] = m\n",
    "    d = d.append(rdf)"
   ]
  },
  {
   "cell_type": "code",
   "execution_count": 4,
   "metadata": {},
   "outputs": [
    {
     "output_type": "stream",
     "name": "stdout",
     "text": [
      "created list with 203 words\n"
     ]
    }
   ],
   "source": [
    "candidate_words = [list(d[d['date'] == y].sort_values('npmi')['w']) for y in list(set(d['date']))]\n",
    "candidate_words = set([item for sublist in candidate_words for item in sublist if item])\n",
    "\n",
    "sim_matrix = cluster.generate_matrix(list_words=candidate_words,model_name=base_path+\"/resources/embeddings/word2vec_100_3_polish.bin\")"
   ]
  },
  {
   "cell_type": "code",
   "execution_count": 6,
   "metadata": {},
   "outputs": [],
   "source": [
    "clustered = cluster.cluster_word(sim_matrix,12)\n",
    "colors = {c:\"#{:06x}\".format(random.randint(0, 0xFFFFFF)) for w,c in clustered.items()}"
   ]
  },
  {
   "cell_type": "code",
   "execution_count": 7,
   "metadata": {},
   "outputs": [],
   "source": [
    "set_words = set()\n",
    "dr = pd.DataFrame()\n",
    "for y in sorted(list(set(d['date']))):\n",
    "    list_words = list(d[d['date'] == y].sort_values('npmi')['w'])\n",
    "    if len(list_words) < 50:\n",
    "        list_words = list_words + [\"\" for x in range(50 - len(list_words))]\n",
    "    else:\n",
    "        list_words = list_words[:50]\n",
    "    set_words = set_words | set(list_words)\n",
    "    dr[y] = list_words\n",
    "str_html = dr.to_html()\n",
    "for w in set_words:\n",
    "    try:\n",
    "        str_html = str_html.replace(f\"<td>{w}\",f'<td style=\"background-color: {colors[clustered[w]]}\">{w}')\n",
    "    except:\n",
    "        continue\n",
    "with open(os.path.join(base_path,\"results\",\"res.html\"),'w') as f:\n",
    "    f.write(str_html)\n"
   ]
  },
  {
   "cell_type": "code",
   "execution_count": null,
   "metadata": {},
   "outputs": [],
   "source": []
  }
 ]
}