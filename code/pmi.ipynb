{
 "metadata": {
  "language_info": {
   "codemirror_mode": {
    "name": "ipython",
    "version": 3
   },
   "file_extension": ".py",
   "mimetype": "text/x-python",
   "name": "python",
   "nbconvert_exporter": "python",
   "pygments_lexer": "ipython3",
   "version": "3.8.6"
  },
  "orig_nbformat": 2,
  "kernelspec": {
   "name": "python3",
   "display_name": "Python 3",
   "language": "python"
  }
 },
 "nbformat": 4,
 "nbformat_minor": 2,
 "cells": [
  {
   "cell_type": "code",
   "execution_count": 1,
   "metadata": {},
   "outputs": [],
   "source": [
    "import random\n",
    "import re, string,os\n",
    "from glob import glob as gb\n",
    "import pandas as pd\n",
    "from collections import Counter\n",
    "from tqdm import tqdm\n",
    "from datetime import datetime, timedelta, date\n",
    "from collections import OrderedDict\n",
    "import subprocess\n",
    "import matplotlib.pyplot as plt\n",
    "import seaborn as sns\n",
    "import math\n",
    "from functions import *\n",
    "import nltk"
   ]
  },
  {
   "cell_type": "code",
   "execution_count": 3,
   "metadata": {},
   "outputs": [],
   "source": [
    "tf = pd.read_csv(base_path + '/resources/keywords-expertise-translation.csv')\n",
    "tf_science = {language:dict(zip(tf[tf['language'] == language]['word'],tf[tf['language'] == language]['translation'])) for language in list(set(tf['language']))}\n",
    "tf_science = {k:{x:i for x,i in v.items() if x not in [\"policy\",\"program\",\"measures\"]} for k,v in tf_science.items()}"
   ]
  },
  {
   "cell_type": "code",
   "execution_count": 30,
   "metadata": {},
   "outputs": [],
   "source": [
    "def get_pmi_score(dfw,word1,word2,date):\n",
    "    data_path = \"~/Documents/GitHub/ParlaMintCase/data/original/pl/pl-ana-txt\"\n",
    "    f1 = len(dfw[dfw.id.str.split('_').str[1].str[:7] == date])\n",
    "    p1 = f1 / totals[date]\n",
    "    f2 = int(subprocess.check_output(f'egrep -iE \"{word2}\"  {data_path}/*{date}* | wc -l',shell=True).decode('utf-8'))  \n",
    "    p2 = f2 / totals[date]\n",
    "    f12 = len(dfw[(dfw.id.str.split('_').str[1].str[:7] == date) & (dfw.window.str.contains(word2))])  \n",
    "    p12 = f12 / totals[date]\n",
    "    if p12 > 0:\n",
    "        try:\n",
    "            # PMI\n",
    "            pmi_ = math.log(((p12) / (p1 * p2)), 2)\n",
    "            npmi = pmi_ / - math.log(p12)\n",
    "\n",
    "            # DICE\n",
    "            dice_ = (p12 * 2) / (p1 + p2)\n",
    "\n",
    "            #ZSCORE\n",
    "            j = f12\n",
    "            s = 24\n",
    "            p = f2 / (totals[date] - f1)\n",
    "            e = p * f1 * s\n",
    "            z_score = (j - e) / math.sqrt(e * (1-p))\n",
    "            return [pmi_,npmi,dice_,z_score]\n",
    "        except Exception as e:\n",
    "            print(e)\n",
    "            return 0"
   ]
  },
  {
   "cell_type": "code",
   "execution_count": 10,
   "metadata": {},
   "outputs": [],
   "source": [
    "totals = pd.read_csv(base_path + '/resources/totals/pl-total-tokens.csv')\n",
    "totals = dict(zip(totals['month'],totals['n']))"
   ]
  },
  {
   "cell_type": "code",
   "execution_count": 72,
   "metadata": {},
   "outputs": [
    {
     "output_type": "stream",
     "name": "stdout",
     "text": [
      "found 516 files in: /home/ruben/Documents/GitHub/ParlaMintCase/data/original/pl/pl-ana-txt/\n"
     ]
    }
   ],
   "source": [
    "df = data_loader.full('pl','lemmatized')"
   ]
  },
  {
   "cell_type": "code",
   "execution_count": 73,
   "metadata": {},
   "outputs": [],
   "source": [
    "dfw = utils.windowizer(df,words=[\"ekspert\"],window=24,id_column=\"id\",text_column=\"text\")"
   ]
  },
  {
   "cell_type": "code",
   "execution_count": 74,
   "metadata": {},
   "outputs": [],
   "source": [
    "words = [[w for w in t.split(' ')] for t in list(dfw['window'])]\n",
    "words = [item for sublist in words for item in sublist]\n",
    "words = dict(Counter(words))\n",
    "words = dict({k:v for k,v in words.items() if v > 10 and len(k) > 3})"
   ]
  },
  {
   "cell_type": "code",
   "execution_count": 75,
   "metadata": {},
   "outputs": [
    {
     "output_type": "stream",
     "name": "stderr",
     "text": [
      "100%|██████████| 956/956 [17:03<00:00,  1.07s/it]\n"
     ]
    }
   ],
   "source": [
    "months = utils.month_generator(\"2019-05\",\"2020-06\")\n",
    "\n",
    "pmi_data = []\n",
    "\n",
    "for t in tqdm(list(words.keys())):\n",
    "    for y in months:\n",
    "        s = get_pmi_score(dfw,\"ekspert\",t,y)\n",
    "        if s:\n",
    "            pmi_data.append([t,y] + s)"
   ]
  },
  {
   "cell_type": "code",
   "execution_count": 82,
   "metadata": {},
   "outputs": [],
   "source": [
    "pmi_data = pd.DataFrame(pmi_data,columns=['t','y','pmi','npmi','dice','zscore']).fillna(0)"
   ]
  },
  {
   "cell_type": "code",
   "execution_count": 83,
   "metadata": {},
   "outputs": [],
   "source": [
    "def plot_(words,measure,rolling=True,rolling_window=4):\n",
    "    d = pmi_data[pmi_data['t'].isin(words)]\n",
    "    d = d[['t','y',measure]].reset_index(drop=True)\n",
    "    d[measure] = d[measure].astype(float)\n",
    "    d = d.pivot(index='y',columns='t',values=measure).reset_index().fillna(0.0)\n",
    "    if rolling == True:\n",
    "        for c in list(d.columns)[1:]:\n",
    "            d[c] = d[c].rolling(rolling_window, win_type='gaussian').sum(std=3)\n",
    "    fig, ax = plt.subplots()\n",
    "    d.plot(x='y',y=words,figsize=(20,10),marker=\"o\",ax=plt.gca(),cmap='Paired')\n",
    "    ax.legend(title=\"Parties\",fontsize=20)\n",
    "    return d"
   ]
  },
  {
   "cell_type": "code",
   "execution_count": 84,
   "metadata": {},
   "outputs": [],
   "source": [
    "list_words = list(set(pmi_data['t']))"
   ]
  },
  {
   "cell_type": "code",
   "execution_count": 79,
   "metadata": {},
   "outputs": [],
   "source": [
    "#plot_(words=list_words,measure='dice',rolling=False)"
   ]
  },
  {
   "cell_type": "code",
   "execution_count": 85,
   "metadata": {},
   "outputs": [],
   "source": [
    "d = pmi_data[['t','y','dice']].reset_index(drop=True)\n",
    "d['dice'] = d['dice'].astype(float)\n",
    "d = d.pivot(index='t',columns='y',values='dice').reset_index().fillna(0.0)"
   ]
  },
  {
   "cell_type": "code",
   "execution_count": 86,
   "metadata": {},
   "outputs": [
    {
     "output_type": "stream",
     "name": "stdout",
     "text": [
      "2019-05 ekspert., ekspert, strategia, uczestniczyć, pośpiech, początek, towarzystwo, problematyka, opinia., opinia, zespół, konsultować, sejmowy, uwzględnić, pacjent, medium, medium., powołać, przygotowywać, spotkanie, wskazywać, naprawdę, wprost, konsultant, ekspercki\n\n2019-06 ekspert, ekspert., szef, zespół, rzecznik, prawnik, wyjaśnić, rekomendacja, choroba, niezależny, legislacyjny., legislacyjny, biuro, polityk, polityk., senacki, towarzystwo, wraz, stowarzyszenie, według, rodzic, zajmować, przedstawiciel, uważać, konstytucja\n\n2019-07 ekspert, ekspert., zewnętrzny, prawnik, raport, szpital, branżowy, szacować, uczelnia, standard, osiągnąć, uczestniczyć, naruszać, specjalista, potwierdzić, współpraca, międzynarodowy, sędzia, konsultować, konsultant, temat, dziedzina., dziedzina, profesor, kontrola\n\n2019-08 ekspert., ekspert, ekspertyza, do_spraw, konferencja, dziennikarz, zaprosić, specjalista, apelować, medium., nauka, zespół, medium, choroba, szansa, produkcja, zapewniać, przeciwdziałać, coraz, przekonanie, udział, doświadczenie, wyraźnie, pokazywać, określony\n\n2019-09 ekspert, ekspert., sektor, poszczególny, zespół, wzrost, branża, dochodzić, według, energetyka, profesor, medyczny, złoty., zrealizować, złoty, organizacyjny, kryterium, powołać, samorządowy, opracować, dziedzina., dziedzina, konsultacja, realizować, inwestycja\n\n2019-10 ekspert., ekspert, kodyfikacyjny, niemniej, niezależny, partner, zbyt, szczególny, mianowicie, zająć, budzić, podatkowy, powołać, zastanowić, szczególnie, wątpliwość., wątpliwość, znacznie, język, więcej, poszczególny, budować, materiał, wola, przedsiębiorca\n\n2019-11 ekspert., ekspert, profesor, pośpiech, legislacyjny, legislacyjny., kodeks, problematyka, ekspertyza, spotkanie, przeprowadzać, rzetelny, nowelizacja, autor, towarzystwo, karny, inicjatywa, do_spraw, stwierdzić, jednoznacznie, rzecznik, medium., naukowy., naukowy, medium\n\n2019-12 ekspert, ekspert., dziedzina., dziedzina, dyrektor, ocena, wojskowy, choćby, model, ocenić, posiadać, doktor, cena, jednoznacznie, sięgać, szczerze, szacować, opinia., różnica, praktycznie, strata, przyznać, ostatnio, opinia, choć\n\n2020-01 ekspert, ekspert., model, kontekst, międzynarodowy, fachowiec, argument, merytoryczny, konsultować, autorytet, współpracować, wysłuchać, słuchać, wypowiadać, pogląd, konstytucjonalista, konsultacja, węgiel, opinia., opinia, wybrać, branżowy, organizacja, niezależny, autor\n\n2020-02 ekspert, ekspert., dziedzina., dziedzina, opinia., opinia, światowy, autorytet, spotkać, konsultant, inicjatywa, strategia, organizacja, zdrowie., ocena, zdrowie, podkomisja, świat., wręcz, ekspertyza, świat, zalecenie, raport, potwierdzać, oczekiwać\n\n2020-03 ekspert., ekspert, instytut, ekonomiczny, pozwalać, opinia, opinia., powoływać, społeczeństwo, nowelizacja, regulacja, znacznie, merytoryczny, udział, ustalić, jednoznacznie, przedsiębiorca, jednocześnie, polski, właśnie, przekonanie, biuro, techniczny, prawnik, szukać\n\n2020-04 ekspert., ekspert, do_spraw, zespół, bliski, komitet, model, początek, wspólnie, rzecznik, nazwisko, pozarządowy, ogromny, nauka, podkreślać, powołać, rzeczywiście, twierdzić, krok, budować, dziecko., zarząd, udział, ekspercki, dziecko\n\n2020-05 ekspert, ekspert., ekspercki, wypowiadać, autorytet, dziedzina., dziedzina, sądowy, rozmowa, powołać, podnosić, pomysł, odnośnie, autor, argument, wskazać, konsultant, wydawać, bądź, wielokrotnie, ekspertyza, zewnętrzny, wyraźnie, temat, przytaczać\n\n"
     ]
    }
   ],
   "source": [
    "for y in list(d.columns)[1:]:\n",
    "    print(y, \", \".join(list(d.sort_values(y,ascending=False)['t'])[:25]))\n",
    "    print('')"
   ]
  },
  {
   "cell_type": "code",
   "execution_count": null,
   "metadata": {},
   "outputs": [],
   "source": []
  }
 ]
}