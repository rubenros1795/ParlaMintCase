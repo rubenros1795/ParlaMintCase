{
 "metadata": {
  "language_info": {
   "codemirror_mode": {
    "name": "ipython",
    "version": 3
   },
   "file_extension": ".py",
   "mimetype": "text/x-python",
   "name": "python",
   "nbconvert_exporter": "python",
   "pygments_lexer": "ipython3",
   "version": "3.8.6-final"
  },
  "orig_nbformat": 2,
  "kernelspec": {
   "name": "python3",
   "display_name": "Python 3.8.6 64-bit",
   "metadata": {
    "interpreter": {
     "hash": "31f2aee4e71d21fbe5cf8b01ff0e069b9275f58929596ceb00d14d90e3e16cd6"
    }
   }
  }
 },
 "nbformat": 4,
 "nbformat_minor": 2,
 "cells": [
  {
   "cell_type": "code",
   "execution_count": 22,
   "metadata": {},
   "outputs": [],
   "source": [
    "import json\n",
    "import enum\n",
    "import re, string,os\n",
    "from glob import glob as gb\n",
    "import pandas as pd\n",
    "from collections import Counter\n",
    "from tqdm import tqdm\n",
    "from datetime import datetime, timedelta, date\n",
    "from collections import OrderedDict\n",
    "import subprocess\n",
    "import matplotlib.pyplot as plt\n",
    "import seaborn as sns\n",
    "import math"
   ]
  },
  {
   "cell_type": "code",
   "execution_count": 25,
   "metadata": {},
   "outputs": [],
   "source": [
    "def generate_metadata_json(language):\n",
    "    metadata_files = os.path.join(\"/media/ruben/OSDisk/Users/ruben.ros/Documents/GitHub/ParlaMintCase/data/original\",f\"{language}/{language}-txt/*\")\n",
    "    metadata_files = [x for x in gb(metadata_files) if \"meta\" in x]\n",
    "    data = pd.DataFrame()\n",
    "    for f in metadata_files:\n",
    "        tdf = pd.read_csv(f,sep='\\t')\n",
    "        data = data.append(tdf)\n",
    "\n",
    "    dict_ = {}\n",
    "    for i,row in data.iterrows():\n",
    "        key = row[0]\n",
    "        td = {list(data.columns)[c+1].lower():i for c,i in enumerate(row[1:])}\n",
    "        dict_.update({key:td})\n",
    "\n",
    "    if os.path.exists(f\"/media/ruben/OSDisk/Users/ruben.ros/Documents/GitHub/ParlaMintCase/data/original/{language}/metadata\") == False:\n",
    "        os.mkdir(f\"/media/ruben/OSDisk/Users/ruben.ros/Documents/GitHub/ParlaMintCase/data/original/{language}/metadata\")\n",
    "    \n",
    "    with open(f\"/media/ruben/OSDisk/Users/ruben.ros/Documents/GitHub/ParlaMintCase/data/original/{language}/metadata/metadata.json\",'w',encoding='utf-8') as f:\n",
    "        json.dump(dict_,f)\n",
    "\n",
    "    [os.remove(x) for x in metadata_files]"
   ]
  },
  {
   "cell_type": "code",
   "execution_count": 26,
   "metadata": {
    "tags": []
   },
   "outputs": [],
   "source": [
    "for l in ['si','bg','pl']:\n",
    "    generate_metadata_json(l)"
   ]
  },
  {
   "cell_type": "code",
   "execution_count": null,
   "metadata": {},
   "outputs": [],
   "source": []
  }
 ]
}