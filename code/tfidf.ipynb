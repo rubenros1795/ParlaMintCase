{
 "metadata": {
  "language_info": {
   "codemirror_mode": {
    "name": "ipython",
    "version": 3
   },
   "file_extension": ".py",
   "mimetype": "text/x-python",
   "name": "python",
   "nbconvert_exporter": "python",
   "pygments_lexer": "ipython3",
   "version": "3.8.6"
  },
  "orig_nbformat": 2,
  "kernelspec": {
   "name": "python3",
   "display_name": "Python 3.8.6 64-bit",
   "metadata": {
    "interpreter": {
     "hash": "31f2aee4e71d21fbe5cf8b01ff0e069b9275f58929596ceb00d14d90e3e16cd6"
    }
   }
  }
 },
 "nbformat": 4,
 "nbformat_minor": 2,
 "cells": [
  {
   "cell_type": "code",
   "execution_count": 1,
   "metadata": {},
   "outputs": [],
   "source": [
    "import re, string,os\n",
    "from glob import glob as gb\n",
    "import pandas as pd\n",
    "from tqdm import tqdm\n",
    "from collections import Counter\n",
    "import datetime as dt\n",
    "import numpy as np\n",
    "import matplotlib.pyplot as plt\n",
    "import seaborn as sns\n",
    "import numpy as np\n",
    "import matplotlib\n",
    "from functions import *\n",
    "\n",
    "base_path = \"/media/ruben/OSDisk/Users/ruben.ros/Documents/GitHub/ParlaMintCase\""
   ]
  },
  {
   "cell_type": "code",
   "execution_count": 2,
   "metadata": {},
   "outputs": [],
   "source": [
    "df = data_loader.full('pl','preprocessed')\n",
    "df['date'] = [utils.find_date(x) for x in df['id']]\n",
    "df = utils.add_metadata(df,'pl')\n",
    "df['text'] = [re.sub(r'[^A-Za-z0-9 ]+', '', str(s)) for s in df['text']]"
   ]
  },
  {
   "cell_type": "code",
   "execution_count": 3,
   "metadata": {},
   "outputs": [],
   "source": [
    "tf = pd.read_csv('/media/ruben/OSDisk/Users/ruben.ros/Documents/GitHub/ParlaMintCase/resources/keywords-corona-translation.csv')\n",
    "tf_corona = {language:dict(zip(tf[tf['language'] == language]['word'],tf[tf['language'] == language]['translation'])) for language in list(set(tf['language']))}"
   ]
  },
  {
   "cell_type": "code",
   "execution_count": 4,
   "metadata": {},
   "outputs": [],
   "source": [
    "df = df[(df['text'].str.contains(\"|\".join(tf_corona['pl'].values())))].reset_index(drop=True)"
   ]
  },
  {
   "cell_type": "code",
   "execution_count": 5,
   "metadata": {},
   "outputs": [],
   "source": [
    "tfidf_obj,docterms = tfidf.get_docterms(df,'text')\n",
    "tfidf_df = tfidf.get_topterms(tfidf_obj,docterms,df,'speaker_party')"
   ]
  },
  {
   "cell_type": "code",
   "execution_count": 10,
   "metadata": {},
   "outputs": [
    {
     "output_type": "stream",
     "name": "stdout",
     "text": [
      "PiS terms \t\t ustawy oraz pani komisji nr prosz przez zwizku tych od bo dla bdzie wirusa porzdku\n_ terms \t\t eby od dla chodzi przez jeeli ktry bdzie czyli tutaj ju tych rwnie pani dzisiaj\nKukiz'15 terms \t\t konkretne pose rzecz bardzo oklaski prosz pastwa tych ktrzy chyba polskich ile raz prosz powiedzie pytanie dzikuj bardzo czas\nTeraz! terms \t\t klski tego typu kryzysu typu jakim nasze tak naprawd pastwo prosz pastwa albo czas naprawd ustawa polsce kiedy\nLewica terms \t\t bdzie ma pan koronawirusa pani od wysoka izbo izbo wysoka przez dla bo rzd ustawy pytanie\nNiezrzeszeni terms \t\t ja pan mwi dzisiaj eby bo tysicy pastwo poprawki pytanie bdzie tych mam ma jeeli\nKP-PSL terms \t\t dla dzisiaj pani bo pytanie tylko pana wysoka dzikuj bardzo wysoka izbo izbo bdzie ktry ustawy przez\nPrzywrócić Prawo terms \t\t posowie byli sprawiedliwoci prosz pastwa dalej panu spraw posa mnie razie ja wyborw pana mia pastwa\nKO;Niezrzeszeni terms \t\t nawet rzecznika gdy mwi pan dzieci brak wicej rzecznik europie od tego nie jest eby lub moe\nUPR terms \t\t oczywicie natomiast klub przepraszam szanowny szanowny panie jednak pastwo stanowisko mamy oklaski szanowni pastwo szanowni moemy bo\nKO terms \t\t pan pastwo bo tylko ministrze panie ministrze dla ma pani bdzie oklaski tych od ju eby\nKonfederacja terms \t\t eby wysoka izbo ju dzwonek wysoka izbo oklaski bo marszaek tylko przez pani pani marszaek pastwo pandemia\n"
     ]
    }
   ],
   "source": [
    "for c in tfidf_df.columns:\n",
    "    print(c,\"\\t\\t\",\" \".join(tfidf_df[c][:15]))"
   ]
  },
  {
   "cell_type": "code",
   "execution_count": 14,
   "metadata": {},
   "outputs": [
    {
     "output_type": "execute_result",
     "data": {
      "text/plain": [
       "                                                      0\n",
       "0       (0, 39)\\t0.06993359678268656\\n  (0, 154)\\t0....\n",
       "1       (0, 501)\\t0.07516733740786703\\n  (0, 377)\\t0...\n",
       "2       (0, 371)\\t0.0874127220673454\\n  (0, 865)\\t0....\n",
       "3       (0, 418)\\t0.09629925051305618\\n  (0, 789)\\t0...\n",
       "4       (0, 240)\\t0.058820363563666246\\n  (0, 29)\\t0...\n",
       "...                                                 ...\n",
       "1615    (0, 54)\\t0.08176283562383697\\n  (0, 265)\\t0....\n",
       "1616    (0, 273)\\t0.20596874662118322\\n  (0, 523)\\t0...\n",
       "1617    (0, 812)\\t0.07218691379709549\\n  (0, 272)\\t0...\n",
       "1618    (0, 811)\\t0.07750612824356712\\n  (0, 461)\\t0...\n",
       "1619    (0, 54)\\t0.17930651796773114\\n  (0, 265)\\t0....\n",
       "\n",
       "[1620 rows x 1 columns]"
      ],
      "text/html": "<div>\n<style scoped>\n    .dataframe tbody tr th:only-of-type {\n        vertical-align: middle;\n    }\n\n    .dataframe tbody tr th {\n        vertical-align: top;\n    }\n\n    .dataframe thead th {\n        text-align: right;\n    }\n</style>\n<table border=\"1\" class=\"dataframe\">\n  <thead>\n    <tr style=\"text-align: right;\">\n      <th></th>\n      <th>0</th>\n    </tr>\n  </thead>\n  <tbody>\n    <tr>\n      <th>0</th>\n      <td>(0, 39)\\t0.06993359678268656\\n  (0, 154)\\t0....</td>\n    </tr>\n    <tr>\n      <th>1</th>\n      <td>(0, 501)\\t0.07516733740786703\\n  (0, 377)\\t0...</td>\n    </tr>\n    <tr>\n      <th>2</th>\n      <td>(0, 371)\\t0.0874127220673454\\n  (0, 865)\\t0....</td>\n    </tr>\n    <tr>\n      <th>3</th>\n      <td>(0, 418)\\t0.09629925051305618\\n  (0, 789)\\t0...</td>\n    </tr>\n    <tr>\n      <th>4</th>\n      <td>(0, 240)\\t0.058820363563666246\\n  (0, 29)\\t0...</td>\n    </tr>\n    <tr>\n      <th>...</th>\n      <td>...</td>\n    </tr>\n    <tr>\n      <th>1615</th>\n      <td>(0, 54)\\t0.08176283562383697\\n  (0, 265)\\t0....</td>\n    </tr>\n    <tr>\n      <th>1616</th>\n      <td>(0, 273)\\t0.20596874662118322\\n  (0, 523)\\t0...</td>\n    </tr>\n    <tr>\n      <th>1617</th>\n      <td>(0, 812)\\t0.07218691379709549\\n  (0, 272)\\t0...</td>\n    </tr>\n    <tr>\n      <th>1618</th>\n      <td>(0, 811)\\t0.07750612824356712\\n  (0, 461)\\t0...</td>\n    </tr>\n    <tr>\n      <th>1619</th>\n      <td>(0, 54)\\t0.17930651796773114\\n  (0, 265)\\t0....</td>\n    </tr>\n  </tbody>\n</table>\n<p>1620 rows × 1 columns</p>\n</div>"
     },
     "metadata": {},
     "execution_count": 14
    }
   ],
   "source": [
    "pd.DataFrame(docterms)"
   ]
  },
  {
   "cell_type": "code",
   "execution_count": null,
   "metadata": {},
   "outputs": [],
   "source": []
  }
 ]
}