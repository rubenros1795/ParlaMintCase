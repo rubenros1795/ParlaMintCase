{
 "metadata": {
  "language_info": {
   "codemirror_mode": {
    "name": "ipython",
    "version": 3
   },
   "file_extension": ".py",
   "mimetype": "text/x-python",
   "name": "python",
   "nbconvert_exporter": "python",
   "pygments_lexer": "ipython3",
   "version": "3.8.6"
  },
  "orig_nbformat": 2,
  "kernelspec": {
   "name": "python386jvsc74a57bd031f2aee4e71d21fbe5cf8b01ff0e069b9275f58929596ceb00d14d90e3e16cd6",
   "display_name": "Python 3.8.6 64-bit"
  },
  "metadata": {
   "interpreter": {
    "hash": "31f2aee4e71d21fbe5cf8b01ff0e069b9275f58929596ceb00d14d90e3e16cd6"
   }
  }
 },
 "nbformat": 4,
 "nbformat_minor": 2,
 "cells": [
  {
   "cell_type": "code",
   "execution_count": 1,
   "metadata": {},
   "outputs": [],
   "source": [
    "from collections import Counter\n",
    "import os,re,string,json\n",
    "from tqdm import tqdm\n",
    "import pandas as pd\n",
    "import datetime\n",
    "import seaborn as sns\n",
    "import numpy as np\n",
    "import nltk\n",
    "from matplotlib.dates import date2num\n",
    "import matplotlib.dates as mdates\n",
    "\n",
    "from functions import *\n",
    "\n",
    "plotting.style_()\n",
    "\n",
    "tf = pd.read_csv(base_path + '/resources/keywords-expertise-translation.csv')\n",
    "tf_science = {language:dict(zip(tf[tf['language'] == language]['word'],tf[tf['language'] == language]['translation'])) for language in list(set(tf['language']))}\n",
    "tf_science = {k:{x:i for x,i in v.items() if x not in [\"policy\",\"program\",\"measures\"]} for k,v in tf_science.items()}"
   ]
  },
  {
   "cell_type": "code",
   "execution_count": 16,
   "metadata": {},
   "outputs": [],
   "source": [
    "def load_clean(iso='gb',start_month='2020-01',end_month='2020-12',text_version='lemmatized'):\n",
    "    df = data_loader.load_month(iso,start_month,end_month)\n",
    "    df['ortext'] = df['text']\n",
    "    df['text'] = [utils.preprocess(str(x)) for x in df[text_version]]\n",
    "    return df \n",
    "\n",
    "def add_metadata(df,iso='gb',house=True,date_format='week'):\n",
    "    if house == True:\n",
    "        if iso != 'gb':\n",
    "            df['house'] = ['upper' if 'upper' in x else 'lower' for x in df['term']]\n",
    "        if iso == 'gb':\n",
    "            df['house'] = ['upper' if 'lords' in x else 'lower' for x in df['id']]\n",
    "    if date_format == 'week':\n",
    "        df['week'] = [df['from'][c][:4] + '-' + str(datetime.strptime(x, '%Y-%m-%d').isocalendar()[1]) for c,x in enumerate(df['from'])]\n",
    "        df['week'] = [x.replace('-','-0') if len(x) == 6 else x for x in df['week']]\n",
    "    if date_format == 'month':\n",
    "        df['month'] = [x[:7] for x in df['from']]\n",
    "    if date_format == 'day':\n",
    "        df['day'] = df['from']\n",
    "    return df"
   ]
  },
  {
   "cell_type": "code",
   "execution_count": 38,
   "metadata": {},
   "outputs": [],
   "source": [
    "df = load_clean('it','2020-03','2020-05')\n",
    "df = add_metadata(df,iso='it')"
   ]
  },
  {
   "cell_type": "code",
   "execution_count": 39,
   "metadata": {
    "tags": []
   },
   "outputs": [
    {
     "output_type": "stream",
     "name": "stdout",
     "text": [
      "------\nM5S.2 Pirro, Elisa 2020-03-04\n=================\n------\nIV-PSI Sbrollini, Daniela 2020-03-04\n=================\n------\nPD Boldrini, Paola 2020-03-04\n=================\n------\nM5S.2 Castellone, Maria Domenica 2020-03-04\n=================\n------\n- Gualtieri, Roberto 2020-03-11\n=================\n------\nL-SP-PSd'Az Fregolent, Sonia 2020-04-01\n=================\n------\n- Speranza, Roberto 2020-04-01\n=================\n------\nPD Boldrini, Paola 2020-04-08\n=================\n------\nIV-PSI Comincini, Eugenio 2020-04-08\n=================\n------\nMisto Fattori, Elena 2020-04-16\n=================\n------\n- Conte, Giuseppe 2020-04-21\n=================\n------\nFIBP-UDC Giammanco, Gabriella 2020-04-29\n=================\n------\nM5S.2 Evangelista, Elvira Lucia 2020-04-29\n=================\n------\n- Conte, Giuseppe 2020-04-30\n=================\n------\nAut (SVP-PATT, UV) Unterberger, Julia 2020-04-30\n=================\n------\nIV-PSI Renzi, Matteo 2020-04-30\n=================\n------\nFdI La Russa, Ignazio 2020-04-30\n=================\n------\nL-SP-PSd'Az Salvini, Matteo 2020-04-30\n=================\n"
     ]
    }
   ],
   "source": [
    "\n",
    "term1 = 'esperto'\n",
    "term2 = 'virus'\n",
    "for i,row in df[(df.text.str.contains(term1)) & (df.text.str.contains(term2))].iterrows():\n",
    "    print('------')\n",
    "    print(row['speaker_party'],row['speaker_name'],row['from'])\n",
    "    print('=================')\n",
    "    sentence = row['ortext'].split(' ')\n",
    "    try:\n",
    "        for x in [\" \".join(sentence[c-10:c+10]) for c,i in enumerate(sentence) if 'expert' in i]:\n",
    "            print(x)\n",
    "    except:\n",
    "        continue"
   ]
  },
  {
   "cell_type": "code",
   "execution_count": 27,
   "metadata": {},
   "outputs": [
    {
     "output_type": "execute_result",
     "data": {
      "text/plain": [
       "['that the Care Quality Commission will continue to provide independent expert regulation of health and care providers. It has already']"
      ]
     },
     "metadata": {},
     "execution_count": 27
    }
   ],
   "source": []
  },
  {
   "cell_type": "code",
   "execution_count": null,
   "metadata": {},
   "outputs": [],
   "source": []
  }
 ]
}